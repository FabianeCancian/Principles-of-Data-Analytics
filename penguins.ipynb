{
 "cells": [
  {
   "cell_type": "markdown",
   "metadata": {},
   "source": [
    "# Palmer Penguins\n",
    "\n",
    "This notebook contains my analysis of the famous palmer penguins dataset.\n",
    "****"
   ]
  },
  {
   "cell_type": "markdown",
   "metadata": {},
   "source": [
    "## Libraries:"
   ]
  },
  {
   "cell_type": "code",
   "execution_count": 4,
   "metadata": {},
   "outputs": [],
   "source": [
    "# Data frames \n",
    "import pandas as pd\n",
    "#Numerical arrays and random numbers\n",
    "import numpy as np \n",
    "#Plot\n",
    "import matplotlib.pyplot as plt\n",
    "#statistical data visualization\n",
    "import seaborn as sns"
   ]
  },
  {
   "cell_type": "markdown",
   "metadata": {},
   "source": [
    "***\n",
    "## Palmer penguins: overview of the data set and variables."
   ]
  },
  {
   "cell_type": "code",
   "execution_count": 5,
   "metadata": {},
   "outputs": [],
   "source": [
    "# Load the penguins dataset.\n",
    "\n",
    "df = pd.read_csv(\"https://raw.githubusercontent.com/mwaskom/seaborn-data/master/penguins.csv\")"
   ]
  },
  {
   "cell_type": "code",
   "execution_count": 5,
   "metadata": {},
   "outputs": [
    {
     "data": {
      "text/html": [
       "<div>\n",
       "<style scoped>\n",
       "    .dataframe tbody tr th:only-of-type {\n",
       "        vertical-align: middle;\n",
       "    }\n",
       "\n",
       "    .dataframe tbody tr th {\n",
       "        vertical-align: top;\n",
       "    }\n",
       "\n",
       "    .dataframe thead th {\n",
       "        text-align: right;\n",
       "    }\n",
       "</style>\n",
       "<table border=\"1\" class=\"dataframe\">\n",
       "  <thead>\n",
       "    <tr style=\"text-align: right;\">\n",
       "      <th></th>\n",
       "      <th>species</th>\n",
       "      <th>island</th>\n",
       "      <th>bill_length_mm</th>\n",
       "      <th>bill_depth_mm</th>\n",
       "      <th>flipper_length_mm</th>\n",
       "      <th>body_mass_g</th>\n",
       "      <th>sex</th>\n",
       "    </tr>\n",
       "  </thead>\n",
       "  <tbody>\n",
       "    <tr>\n",
       "      <th>0</th>\n",
       "      <td>Adelie</td>\n",
       "      <td>Torgersen</td>\n",
       "      <td>39.1</td>\n",
       "      <td>18.7</td>\n",
       "      <td>181.0</td>\n",
       "      <td>3750.0</td>\n",
       "      <td>MALE</td>\n",
       "    </tr>\n",
       "    <tr>\n",
       "      <th>1</th>\n",
       "      <td>Adelie</td>\n",
       "      <td>Torgersen</td>\n",
       "      <td>39.5</td>\n",
       "      <td>17.4</td>\n",
       "      <td>186.0</td>\n",
       "      <td>3800.0</td>\n",
       "      <td>FEMALE</td>\n",
       "    </tr>\n",
       "    <tr>\n",
       "      <th>2</th>\n",
       "      <td>Adelie</td>\n",
       "      <td>Torgersen</td>\n",
       "      <td>40.3</td>\n",
       "      <td>18.0</td>\n",
       "      <td>195.0</td>\n",
       "      <td>3250.0</td>\n",
       "      <td>FEMALE</td>\n",
       "    </tr>\n",
       "    <tr>\n",
       "      <th>3</th>\n",
       "      <td>Adelie</td>\n",
       "      <td>Torgersen</td>\n",
       "      <td>NaN</td>\n",
       "      <td>NaN</td>\n",
       "      <td>NaN</td>\n",
       "      <td>NaN</td>\n",
       "      <td>NaN</td>\n",
       "    </tr>\n",
       "    <tr>\n",
       "      <th>4</th>\n",
       "      <td>Adelie</td>\n",
       "      <td>Torgersen</td>\n",
       "      <td>36.7</td>\n",
       "      <td>19.3</td>\n",
       "      <td>193.0</td>\n",
       "      <td>3450.0</td>\n",
       "      <td>FEMALE</td>\n",
       "    </tr>\n",
       "    <tr>\n",
       "      <th>...</th>\n",
       "      <td>...</td>\n",
       "      <td>...</td>\n",
       "      <td>...</td>\n",
       "      <td>...</td>\n",
       "      <td>...</td>\n",
       "      <td>...</td>\n",
       "      <td>...</td>\n",
       "    </tr>\n",
       "    <tr>\n",
       "      <th>339</th>\n",
       "      <td>Gentoo</td>\n",
       "      <td>Biscoe</td>\n",
       "      <td>NaN</td>\n",
       "      <td>NaN</td>\n",
       "      <td>NaN</td>\n",
       "      <td>NaN</td>\n",
       "      <td>NaN</td>\n",
       "    </tr>\n",
       "    <tr>\n",
       "      <th>340</th>\n",
       "      <td>Gentoo</td>\n",
       "      <td>Biscoe</td>\n",
       "      <td>46.8</td>\n",
       "      <td>14.3</td>\n",
       "      <td>215.0</td>\n",
       "      <td>4850.0</td>\n",
       "      <td>FEMALE</td>\n",
       "    </tr>\n",
       "    <tr>\n",
       "      <th>341</th>\n",
       "      <td>Gentoo</td>\n",
       "      <td>Biscoe</td>\n",
       "      <td>50.4</td>\n",
       "      <td>15.7</td>\n",
       "      <td>222.0</td>\n",
       "      <td>5750.0</td>\n",
       "      <td>MALE</td>\n",
       "    </tr>\n",
       "    <tr>\n",
       "      <th>342</th>\n",
       "      <td>Gentoo</td>\n",
       "      <td>Biscoe</td>\n",
       "      <td>45.2</td>\n",
       "      <td>14.8</td>\n",
       "      <td>212.0</td>\n",
       "      <td>5200.0</td>\n",
       "      <td>FEMALE</td>\n",
       "    </tr>\n",
       "    <tr>\n",
       "      <th>343</th>\n",
       "      <td>Gentoo</td>\n",
       "      <td>Biscoe</td>\n",
       "      <td>49.9</td>\n",
       "      <td>16.1</td>\n",
       "      <td>213.0</td>\n",
       "      <td>5400.0</td>\n",
       "      <td>MALE</td>\n",
       "    </tr>\n",
       "  </tbody>\n",
       "</table>\n",
       "<p>344 rows × 7 columns</p>\n",
       "</div>"
      ],
      "text/plain": [
       "    species     island  bill_length_mm  bill_depth_mm  flipper_length_mm  \\\n",
       "0    Adelie  Torgersen            39.1           18.7              181.0   \n",
       "1    Adelie  Torgersen            39.5           17.4              186.0   \n",
       "2    Adelie  Torgersen            40.3           18.0              195.0   \n",
       "3    Adelie  Torgersen             NaN            NaN                NaN   \n",
       "4    Adelie  Torgersen            36.7           19.3              193.0   \n",
       "..      ...        ...             ...            ...                ...   \n",
       "339  Gentoo     Biscoe             NaN            NaN                NaN   \n",
       "340  Gentoo     Biscoe            46.8           14.3              215.0   \n",
       "341  Gentoo     Biscoe            50.4           15.7              222.0   \n",
       "342  Gentoo     Biscoe            45.2           14.8              212.0   \n",
       "343  Gentoo     Biscoe            49.9           16.1              213.0   \n",
       "\n",
       "     body_mass_g     sex  \n",
       "0         3750.0    MALE  \n",
       "1         3800.0  FEMALE  \n",
       "2         3250.0  FEMALE  \n",
       "3            NaN     NaN  \n",
       "4         3450.0  FEMALE  \n",
       "..           ...     ...  \n",
       "339          NaN     NaN  \n",
       "340       4850.0  FEMALE  \n",
       "341       5750.0    MALE  \n",
       "342       5200.0  FEMALE  \n",
       "343       5400.0    MALE  \n",
       "\n",
       "[344 rows x 7 columns]"
      ]
     },
     "execution_count": 5,
     "metadata": {},
     "output_type": "execute_result"
    }
   ],
   "source": [
    "# Let's have a look\n",
    "df"
   ]
  },
  {
   "cell_type": "code",
   "execution_count": 6,
   "metadata": {},
   "outputs": [
    {
     "data": {
      "text/plain": [
       "species                 Adelie\n",
       "island               Torgersen\n",
       "bill_length_mm            39.1\n",
       "bill_depth_mm             18.7\n",
       "flipper_length_mm        181.0\n",
       "body_mass_g             3750.0\n",
       "sex                       MALE\n",
       "Name: 0, dtype: object"
      ]
     },
     "execution_count": 6,
     "metadata": {},
     "output_type": "execute_result"
    }
   ],
   "source": [
    "# Look at the first row\n",
    "df.iloc[0]"
   ]
  },
  {
   "cell_type": "code",
   "execution_count": 7,
   "metadata": {},
   "outputs": [
    {
     "data": {
      "text/plain": [
       "0        MALE\n",
       "1      FEMALE\n",
       "2      FEMALE\n",
       "3         NaN\n",
       "4      FEMALE\n",
       "        ...  \n",
       "339       NaN\n",
       "340    FEMALE\n",
       "341      MALE\n",
       "342    FEMALE\n",
       "343      MALE\n",
       "Name: sex, Length: 344, dtype: object"
      ]
     },
     "execution_count": 7,
     "metadata": {},
     "output_type": "execute_result"
    }
   ],
   "source": [
    "# sex of penguins\n",
    "df[\"sex\"]"
   ]
  },
  {
   "cell_type": "code",
   "execution_count": 8,
   "metadata": {},
   "outputs": [
    {
     "data": {
      "text/plain": [
       "sex\n",
       "MALE      168\n",
       "FEMALE    165\n",
       "Name: count, dtype: int64"
      ]
     },
     "execution_count": 8,
     "metadata": {},
     "output_type": "execute_result"
    }
   ],
   "source": [
    "# Count the number of penguins of each sex.\n",
    "df[\"sex\"].value_counts()"
   ]
  },
  {
   "cell_type": "code",
   "execution_count": 9,
   "metadata": {},
   "outputs": [
    {
     "data": {
      "text/html": [
       "<div>\n",
       "<style scoped>\n",
       "    .dataframe tbody tr th:only-of-type {\n",
       "        vertical-align: middle;\n",
       "    }\n",
       "\n",
       "    .dataframe tbody tr th {\n",
       "        vertical-align: top;\n",
       "    }\n",
       "\n",
       "    .dataframe thead th {\n",
       "        text-align: right;\n",
       "    }\n",
       "</style>\n",
       "<table border=\"1\" class=\"dataframe\">\n",
       "  <thead>\n",
       "    <tr style=\"text-align: right;\">\n",
       "      <th></th>\n",
       "      <th>bill_length_mm</th>\n",
       "      <th>bill_depth_mm</th>\n",
       "      <th>flipper_length_mm</th>\n",
       "      <th>body_mass_g</th>\n",
       "    </tr>\n",
       "  </thead>\n",
       "  <tbody>\n",
       "    <tr>\n",
       "      <th>count</th>\n",
       "      <td>342.000000</td>\n",
       "      <td>342.000000</td>\n",
       "      <td>342.000000</td>\n",
       "      <td>342.000000</td>\n",
       "    </tr>\n",
       "    <tr>\n",
       "      <th>mean</th>\n",
       "      <td>43.921930</td>\n",
       "      <td>17.151170</td>\n",
       "      <td>200.915205</td>\n",
       "      <td>4201.754386</td>\n",
       "    </tr>\n",
       "    <tr>\n",
       "      <th>std</th>\n",
       "      <td>5.459584</td>\n",
       "      <td>1.974793</td>\n",
       "      <td>14.061714</td>\n",
       "      <td>801.954536</td>\n",
       "    </tr>\n",
       "    <tr>\n",
       "      <th>min</th>\n",
       "      <td>32.100000</td>\n",
       "      <td>13.100000</td>\n",
       "      <td>172.000000</td>\n",
       "      <td>2700.000000</td>\n",
       "    </tr>\n",
       "    <tr>\n",
       "      <th>25%</th>\n",
       "      <td>39.225000</td>\n",
       "      <td>15.600000</td>\n",
       "      <td>190.000000</td>\n",
       "      <td>3550.000000</td>\n",
       "    </tr>\n",
       "    <tr>\n",
       "      <th>50%</th>\n",
       "      <td>44.450000</td>\n",
       "      <td>17.300000</td>\n",
       "      <td>197.000000</td>\n",
       "      <td>4050.000000</td>\n",
       "    </tr>\n",
       "    <tr>\n",
       "      <th>75%</th>\n",
       "      <td>48.500000</td>\n",
       "      <td>18.700000</td>\n",
       "      <td>213.000000</td>\n",
       "      <td>4750.000000</td>\n",
       "    </tr>\n",
       "    <tr>\n",
       "      <th>max</th>\n",
       "      <td>59.600000</td>\n",
       "      <td>21.500000</td>\n",
       "      <td>231.000000</td>\n",
       "      <td>6300.000000</td>\n",
       "    </tr>\n",
       "  </tbody>\n",
       "</table>\n",
       "</div>"
      ],
      "text/plain": [
       "       bill_length_mm  bill_depth_mm  flipper_length_mm  body_mass_g\n",
       "count      342.000000     342.000000         342.000000   342.000000\n",
       "mean        43.921930      17.151170         200.915205  4201.754386\n",
       "std          5.459584       1.974793          14.061714   801.954536\n",
       "min         32.100000      13.100000         172.000000  2700.000000\n",
       "25%         39.225000      15.600000         190.000000  3550.000000\n",
       "50%         44.450000      17.300000         197.000000  4050.000000\n",
       "75%         48.500000      18.700000         213.000000  4750.000000\n",
       "max         59.600000      21.500000         231.000000  6300.000000"
      ]
     },
     "execution_count": 9,
     "metadata": {},
     "output_type": "execute_result"
    }
   ],
   "source": [
    "# Describe the data set.\n",
    "df.describe()"
   ]
  },
  {
   "cell_type": "markdown",
   "metadata": {},
   "source": [
    "***\n",
    "## Types of variables:\n",
    "\n",
    "For this dataset we observe that the two variables present in the data are float and string. Therefore using those two variables to analyse the dataset would return a better result.\n"
   ]
  },
  {
   "cell_type": "code",
   "execution_count": 28,
   "metadata": {},
   "outputs": [
    {
     "data": {
      "text/plain": [
       "species               object\n",
       "island                object\n",
       "bill_length_mm       float64\n",
       "bill_depth_mm        float64\n",
       "flipper_length_mm    float64\n",
       "body_mass_g          float64\n",
       "sex                   object\n",
       "dtype: object"
      ]
     },
     "execution_count": 28,
     "metadata": {},
     "output_type": "execute_result"
    }
   ],
   "source": [
    "# investigate data types\n",
    "df.dtypes"
   ]
  },
  {
   "cell_type": "markdown",
   "metadata": {},
   "source": [
    "***\n",
    "## Charts and Histogram."
   ]
  },
  {
   "cell_type": "code",
   "execution_count": 126,
   "metadata": {},
   "outputs": [
    {
     "data": {
      "text/plain": [
       "[Text(0.5, 1.0, 'Penguins per Island')]"
      ]
     },
     "execution_count": 126,
     "metadata": {},
     "output_type": "execute_result"
    },
    {
     "data": {
      "image/png": "[encoded data removed]",
      "text/plain": [
       "<Figure size 640x480 with 1 Axes>"
      ]
     },
     "metadata": {},
     "output_type": "display_data"
    }
   ],
   "source": [
    "#Plot the bar chart\n",
    "\n",
    "sns.countplot(data= df, x= 'island', hue='species', palette='mako').set(title='Penguins per Island')"
   ]
  },
  {
   "cell_type": "markdown",
   "metadata": {},
   "source": [
    "![Palmer Penguins](https://www.gabemednick.com/post/penguin/featured_hu23a2ff6767279debab043a6c8f0a6157_878472_720x0_resize_lanczos_2.png)"
   ]
  },
  {
   "cell_type": "code",
   "execution_count": 156,
   "metadata": {},
   "outputs": [
    {
     "name": "stdout",
     "output_type": "stream",
     "text": [
      "[3750. 3800. 3250.   nan 3450. 3650. 3625. 4675. 3475. 4250. 3300. 3700.\n",
      " 3200. 3800. 4400. 3700. 3450. 4500. 3325. 4200. 3400. 3600. 3800. 3950.\n",
      " 3800. 3800. 3550. 3200. 3150. 3950. 3250. 3900. 3300. 3900. 3325. 4150.\n",
      " 3950. 3550. 3300. 4650. 3150. 3900. 3100. 4400. 3000. 4600. 3425. 2975.\n",
      " 3450. 4150. 3500. 4300. 3450. 4050. 2900. 3700. 3550. 3800. 2850. 3750.\n",
      " 3150. 4400. 3600. 4050. 2850. 3950. 3350. 4100. 3050. 4450. 3600. 3900.\n",
      " 3550. 4150. 3700. 4250. 3700. 3900. 3550. 4000. 3200. 4700. 3800. 4200.\n",
      " 3350. 3550. 3800. 3500. 3950. 3600. 3550. 4300. 3400. 4450. 3300. 4300.\n",
      " 3700. 4350. 2900. 4100. 3725. 4725. 3075. 4250. 2925. 3550. 3750. 3900.\n",
      " 3175. 4775. 3825. 4600. 3200. 4275. 3900. 4075. 2900. 3775. 3350. 3325.\n",
      " 3150. 3500. 3450. 3875. 3050. 4000. 3275. 4300. 3050. 4000. 3325. 3500.\n",
      " 3500. 4475. 3425. 3900. 3175. 3975. 3400. 4250. 3400. 3475. 3050. 3725.\n",
      " 3000. 3650. 4250. 3475. 3450. 3750. 3700. 4000. 3500. 3900. 3650. 3525.\n",
      " 3725. 3950. 3250. 3750. 4150. 3700. 3800. 3775. 3700. 4050. 3575. 4050.\n",
      " 3300. 3700. 3450. 4400. 3600. 3400. 2900. 3800. 3300. 4150. 3400. 3800.\n",
      " 3700. 4550. 3200. 4300. 3350. 4100. 3600. 3900. 3850. 4800. 2700. 4500.\n",
      " 3950. 3650. 3550. 3500. 3675. 4450. 3400. 4300. 3250. 3675. 3325. 3950.\n",
      " 3600. 4050. 3350. 3450. 3250. 4050. 3800. 3525. 3950. 3650. 3650. 4000.\n",
      " 3400. 3775. 4100. 3775. 4500. 5700. 4450. 5700. 5400. 4550. 4800. 5200.\n",
      " 4400. 5150. 4650. 5550. 4650. 5850. 4200. 5850. 4150. 6300. 4800. 5350.\n",
      " 5700. 5000. 4400. 5050. 5000. 5100. 4100. 5650. 4600. 5550. 5250. 4700.\n",
      " 5050. 6050. 5150. 5400. 4950. 5250. 4350. 5350. 3950. 5700. 4300. 4750.\n",
      " 5550. 4900. 4200. 5400. 5100. 5300. 4850. 5300. 4400. 5000. 4900. 5050.\n",
      " 4300. 5000. 4450. 5550. 4200. 5300. 4400. 5650. 4700. 5700. 4650. 5800.\n",
      " 4700. 5550. 4750. 5000. 5100. 5200. 4700. 5800. 4600. 6000. 4750. 5950.\n",
      " 4625. 5450. 4725. 5350. 4750. 5600. 4600. 5300. 4875. 5550. 4950. 5400.\n",
      " 4750. 5650. 4850. 5200. 4925. 4875. 4625. 5250. 4850. 5600. 4975. 5500.\n",
      " 4725. 5500. 4700. 5500. 4575. 5500. 5000. 5950. 4650. 5500. 4375. 5850.\n",
      " 4875. 6000. 4925.   nan 4850. 5750. 5200. 5400.] \n",
      "\n"
     ]
    }
   ],
   "source": [
    "bodymass = df['body_mass_g'].to_numpy()\n",
    "print(bodymass,'\\n')"
   ]
  },
  {
   "cell_type": "code",
   "execution_count": 162,
   "metadata": {},
   "outputs": [
    {
     "data": {
      "text/plain": [
       "Text(0, 0.5, 'count')"
      ]
     },
     "execution_count": 162,
     "metadata": {},
     "output_type": "execute_result"
    },
    {
     "data": {
      "image/png": "[encoded data removed]",
      "text/plain": [
       "<Figure size 640x480 with 1 Axes>"
      ]
     },
     "metadata": {},
     "output_type": "display_data"
    }
   ],
   "source": [
    "plt.hist(bodymass, bins=50, color='purple')\n",
    "# create title\n",
    "plt.title('Palmerpenguins Weight Histogram')\n",
    "# name axis\n",
    "plt.xlabel('Body Mass in grams') \n",
    "plt.ylabel('count')"
   ]
  },
  {
   "cell_type": "markdown",
   "metadata": {},
   "source": [
    "****\n",
    "## Correlation between penguins body mass and flipper lengh"
   ]
  },
  {
   "cell_type": "code",
   "execution_count": 14,
   "metadata": {},
   "outputs": [
    {
     "data": {
      "text/plain": [
       "array([3750., 3800., 3250.,   nan, 3450., 3650., 3625., 4675., 3475.,\n",
       "       4250., 3300., 3700., 3200., 3800., 4400., 3700., 3450., 4500.,\n",
       "       3325., 4200., 3400., 3600., 3800., 3950., 3800., 3800., 3550.,\n",
       "       3200., 3150., 3950., 3250., 3900., 3300., 3900., 3325., 4150.,\n",
       "       3950., 3550., 3300., 4650., 3150., 3900., 3100., 4400., 3000.,\n",
       "       4600., 3425., 2975., 3450., 4150., 3500., 4300., 3450., 4050.,\n",
       "       2900., 3700., 3550., 3800., 2850., 3750., 3150., 4400., 3600.,\n",
       "       4050., 2850., 3950., 3350., 4100., 3050., 4450., 3600., 3900.,\n",
       "       3550., 4150., 3700., 4250., 3700., 3900., 3550., 4000., 3200.,\n",
       "       4700., 3800., 4200., 3350., 3550., 3800., 3500., 3950., 3600.,\n",
       "       3550., 4300., 3400., 4450., 3300., 4300., 3700., 4350., 2900.,\n",
       "       4100., 3725., 4725., 3075., 4250., 2925., 3550., 3750., 3900.,\n",
       "       3175., 4775., 3825., 4600., 3200., 4275., 3900., 4075., 2900.,\n",
       "       3775., 3350., 3325., 3150., 3500., 3450., 3875., 3050., 4000.,\n",
       "       3275., 4300., 3050., 4000., 3325., 3500., 3500., 4475., 3425.,\n",
       "       3900., 3175., 3975., 3400., 4250., 3400., 3475., 3050., 3725.,\n",
       "       3000., 3650., 4250., 3475., 3450., 3750., 3700., 4000., 3500.,\n",
       "       3900., 3650., 3525., 3725., 3950., 3250., 3750., 4150., 3700.,\n",
       "       3800., 3775., 3700., 4050., 3575., 4050., 3300., 3700., 3450.,\n",
       "       4400., 3600., 3400., 2900., 3800., 3300., 4150., 3400., 3800.,\n",
       "       3700., 4550., 3200., 4300., 3350., 4100., 3600., 3900., 3850.,\n",
       "       4800., 2700., 4500., 3950., 3650., 3550., 3500., 3675., 4450.,\n",
       "       3400., 4300., 3250., 3675., 3325., 3950., 3600., 4050., 3350.,\n",
       "       3450., 3250., 4050., 3800., 3525., 3950., 3650., 3650., 4000.,\n",
       "       3400., 3775., 4100., 3775., 4500., 5700., 4450., 5700., 5400.,\n",
       "       4550., 4800., 5200., 4400., 5150., 4650., 5550., 4650., 5850.,\n",
       "       4200., 5850., 4150., 6300., 4800., 5350., 5700., 5000., 4400.,\n",
       "       5050., 5000., 5100., 4100., 5650., 4600., 5550., 5250., 4700.,\n",
       "       5050., 6050., 5150., 5400., 4950., 5250., 4350., 5350., 3950.,\n",
       "       5700., 4300., 4750., 5550., 4900., 4200., 5400., 5100., 5300.,\n",
       "       4850., 5300., 4400., 5000., 4900., 5050., 4300., 5000., 4450.,\n",
       "       5550., 4200., 5300., 4400., 5650., 4700., 5700., 4650., 5800.,\n",
       "       4700., 5550., 4750., 5000., 5100., 5200., 4700., 5800., 4600.,\n",
       "       6000., 4750., 5950., 4625., 5450., 4725., 5350., 4750., 5600.,\n",
       "       4600., 5300., 4875., 5550., 4950., 5400., 4750., 5650., 4850.,\n",
       "       5200., 4925., 4875., 4625., 5250., 4850., 5600., 4975., 5500.,\n",
       "       4725., 5500., 4700., 5500., 4575., 5500., 5000., 5950., 4650.,\n",
       "       5500., 4375., 5850., 4875., 6000., 4925.,   nan, 4850., 5750.,\n",
       "       5200., 5400.])"
      ]
     },
     "execution_count": 14,
     "metadata": {},
     "output_type": "execute_result"
    }
   ],
   "source": [
    "# Defining the value of x axis.\n",
    "bmass = df['body_mass_g'].to_numpy()\n",
    "bmass"
   ]
  },
  {
   "cell_type": "code",
   "execution_count": 15,
   "metadata": {},
   "outputs": [
    {
     "data": {
      "text/plain": [
       "array([181., 186., 195.,  nan, 193., 190., 181., 195., 193., 190., 186.,\n",
       "       180., 182., 191., 198., 185., 195., 197., 184., 194., 174., 180.,\n",
       "       189., 185., 180., 187., 183., 187., 172., 180., 178., 178., 188.,\n",
       "       184., 195., 196., 190., 180., 181., 184., 182., 195., 186., 196.,\n",
       "       185., 190., 182., 179., 190., 191., 186., 188., 190., 200., 187.,\n",
       "       191., 186., 193., 181., 194., 185., 195., 185., 192., 184., 192.,\n",
       "       195., 188., 190., 198., 190., 190., 196., 197., 190., 195., 191.,\n",
       "       184., 187., 195., 189., 196., 187., 193., 191., 194., 190., 189.,\n",
       "       189., 190., 202., 205., 185., 186., 187., 208., 190., 196., 178.,\n",
       "       192., 192., 203., 183., 190., 193., 184., 199., 190., 181., 197.,\n",
       "       198., 191., 193., 197., 191., 196., 188., 199., 189., 189., 187.,\n",
       "       198., 176., 202., 186., 199., 191., 195., 191., 210., 190., 197.,\n",
       "       193., 199., 187., 190., 191., 200., 185., 193., 193., 187., 188.,\n",
       "       190., 192., 185., 190., 184., 195., 193., 187., 201., 192., 196.,\n",
       "       193., 188., 197., 198., 178., 197., 195., 198., 193., 194., 185.,\n",
       "       201., 190., 201., 197., 181., 190., 195., 181., 191., 187., 193.,\n",
       "       195., 197., 200., 200., 191., 205., 187., 201., 187., 203., 195.,\n",
       "       199., 195., 210., 192., 205., 210., 187., 196., 196., 196., 201.,\n",
       "       190., 212., 187., 198., 199., 201., 193., 203., 187., 197., 191.,\n",
       "       203., 202., 194., 206., 189., 195., 207., 202., 193., 210., 198.,\n",
       "       211., 230., 210., 218., 215., 210., 211., 219., 209., 215., 214.,\n",
       "       216., 214., 213., 210., 217., 210., 221., 209., 222., 218., 215.,\n",
       "       213., 215., 215., 215., 216., 215., 210., 220., 222., 209., 207.,\n",
       "       230., 220., 220., 213., 219., 208., 208., 208., 225., 210., 216.,\n",
       "       222., 217., 210., 225., 213., 215., 210., 220., 210., 225., 217.,\n",
       "       220., 208., 220., 208., 224., 208., 221., 214., 231., 219., 230.,\n",
       "       214., 229., 220., 223., 216., 221., 221., 217., 216., 230., 209.,\n",
       "       220., 215., 223., 212., 221., 212., 224., 212., 228., 218., 218.,\n",
       "       212., 230., 218., 228., 212., 224., 214., 226., 216., 222., 203.,\n",
       "       225., 219., 228., 215., 228., 216., 215., 210., 219., 208., 209.,\n",
       "       216., 229., 213., 230., 217., 230., 217., 222., 214.,  nan, 215.,\n",
       "       222., 212., 213.])"
      ]
     },
     "execution_count": 15,
     "metadata": {},
     "output_type": "execute_result"
    }
   ],
   "source": [
    "# Defining the value of y axis.\n",
    "flipper = df['flipper_length_mm'].to_numpy()\n",
    "flipper"
   ]
  },
  {
   "cell_type": "code",
   "execution_count": 25,
   "metadata": {},
   "outputs": [
    {
     "data": {
      "text/plain": [
       "[<matplotlib.lines.Line2D at 0x18f82dfb510>]"
      ]
     },
     "execution_count": 25,
     "metadata": {},
     "output_type": "execute_result"
    },
    {
     "data": {
      "image/png": "[encoded data removed]",
      "text/plain": [
       "<Figure size 640x480 with 1 Axes>"
      ]
     },
     "metadata": {},
     "output_type": "display_data"
    }
   ],
   "source": [
    "# Create a new figure and set of axes.\n",
    "fig, ax = plt.subplots()\n",
    "#create plot\n",
    "ax.plot(bmass, flipper, 'x')\n",
    "#create title\n",
    "ax.set_title('Body mass vs flipper length')\n",
    "#create axis labels\n",
    "ax.set_xlabel('Body mass (g)') \n",
    "ax.set_ylabel('Flipper length (mm)')\n",
    "\n",
    "#create red line between depth and length\n",
    "plt.plot([2750, 6000], [160, 245], color=\"red\")\n"
   ]
  },
  {
   "cell_type": "code",
   "execution_count": 30,
   "metadata": {},
   "outputs": [
    {
     "data": {
      "text/plain": [
       "array([[1.        , 0.87120177],\n",
       "       [0.87120177, 1.        ]])"
      ]
     },
     "execution_count": 30,
     "metadata": {},
     "output_type": "execute_result"
    }
   ],
   "source": [
    "# Measure the correlation.\n",
    "p2 = bmass[~np.isnan(bmass)]\n",
    "p3 = flipper[~np.isnan(flipper)]\n",
    "np.corrcoef(p2, p3)"
   ]
  },
  {
   "cell_type": "markdown",
   "metadata": {},
   "source": [
    "***\n",
    "# End"
   ]
  }
 ],
 "metadata": {
  "kernelspec": {
   "display_name": "Python 3",
   "language": "python",
   "name": "python3"
  },
  "language_info": {
   "codemirror_mode": {
    "name": "ipython",
    "version": 3
   },
   "file_extension": ".py",
   "mimetype": "text/x-python",
   "name": "python",
   "nbconvert_exporter": "python",
   "pygments_lexer": "ipython3",
   "version": "3.11.5"
  }
 },
 "nbformat": 4,
 "nbformat_minor": 2
}
